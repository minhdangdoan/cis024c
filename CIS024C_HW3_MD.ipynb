{
 "cells": [
  {
   "cell_type": "code",
   "execution_count": 2,
   "metadata": {},
   "outputs": [
    {
     "name": "stderr",
     "output_type": "stream",
     "text": [
      "Python 2.7.13 :: Anaconda 4.4.0 (64-bit)\n"
     ]
    }
   ],
   "source": [
    "!python --version\n"
   ]
  },
  {
   "cell_type": "markdown",
   "metadata": {},
   "source": [
    "## Exercise 1 - Using logical operators - and, or and not \n",
    "\n",
    "Get the ages of three persons Harry, Sally and Mary from the user. Check the below conditions and display the results\n",
    "1.If Harry and Sally are both less than 20 years old, display the message saying \"Harry and Sally are less than 20 years old\"\n",
    "2.If either Sally or Mary is older than 30, then display the message saying \"Either Sally or Mary is older than 30\"\n",
    "\n",
    "Remember that to do this you will need to use different variables to store the respective ages and then evaluate those ages using the if statement and logical operators.\n"
   ]
  },
  {
   "cell_type": "code",
   "execution_count": 4,
   "metadata": {},
   "outputs": [
    {
     "name": "stdout",
     "output_type": "stream",
     "text": [
      "Enter Harry age:15\n",
      "Enter Sally age:14\n",
      "Enter Mary age:32\n",
      "Harry and Sally are less than 20 years old\n",
      "Either Sally or Mary is older than 30\n"
     ]
    }
   ],
   "source": [
    "harryAge = int(raw_input(\"Enter Harry age:\"))\n",
    "sallyAge = int(raw_input(\"Enter Sally age:\"))\n",
    "maryAge = int(raw_input(\"Enter Mary age:\"))\n",
    "\n",
    "if harryAge <= 20 and sallyAge <=20:\n",
    "    print \"Harry and Sally are less than 20 years old\"\n",
    "    \n",
    "if sallyAge >=30 or maryAge >=30:\n",
    "    print \"Either Sally or Mary is older than 30\"\n",
    "    "
   ]
  },
  {
   "cell_type": "markdown",
   "metadata": {},
   "source": [
    "# Exercise 2 - Find the length of a given string \n",
    "\n",
    "Ask the user to enter their first name. Compute the number of characters in the first name and print the result.\n",
    "\n",
    "Note that you will need to use the  len  function to obtain the number of characters in the string.\n"
   ]
  },
  {
   "cell_type": "code",
   "execution_count": 6,
   "metadata": {},
   "outputs": [
    {
     "name": "stdout",
     "output_type": "stream",
     "text": [
      "Enter your first name:minhdang\n",
      "Your first name has 8 characters\n"
     ]
    }
   ],
   "source": [
    "userName = raw_input(\"Enter your first name:\")\n",
    "nameLengh = len(userName)\n",
    "print \"Your first name has %s characters\" % nameLengh"
   ]
  },
  {
   "cell_type": "markdown",
   "metadata": {},
   "source": [
    "# Exercise 3 - Reversing a String¶ \n",
    "\n",
    "Ask the user to enter the name of their favorite movie. Reverse the name of the movie and print it out.\n"
   ]
  },
  {
   "cell_type": "code",
   "execution_count": 7,
   "metadata": {},
   "outputs": [
    {
     "name": "stdout",
     "output_type": "stream",
     "text": [
      "Enter your favorite movie name:Tom and Jerry\n",
      "Your movie name is: Tom and Jerry\n",
      "Your moviw name in reverse order is: yrreJ dna moT\n"
     ]
    }
   ],
   "source": [
    "movieName = raw_input(\"Enter your favorite movie name:\")\n",
    "\n",
    "print \"Your movie name is:\",movieName\n",
    "print \"Your moviw name in reverse order is:\" ,movieName[::-1]"
   ]
  },
  {
   "cell_type": "markdown",
   "metadata": {},
   "source": [
    "# Exercise 4 - Converting an input string to lower case and looking for a match \n",
    "\n",
    "Ask the user to enter a line of text and a search string. Convert the line of text that the user entered to lower case. Search the resulting text for the search string. Print \"Search String Found\" if the search string was found, otherwise, print \"Search String not found\"\n",
    "\n",
    "For example, the user could enter \"Jack and Jill went up the Hill\" and the search string \"jill\". You first need to convert the input string to lower case like so - \"jack and jill went up the hill\".\n",
    "\n",
    "Next you will need to look for the search string in the input string. You can use the \"if searchString in text\" form of query to determine if the text contains the search string. See week 3 classowork for an example\n"
   ]
  },
  {
   "cell_type": "code",
   "execution_count": 21,
   "metadata": {},
   "outputs": [
    {
     "name": "stdout",
     "output_type": "stream",
     "text": [
      "Enter a string:Dang Di choi XA\n",
      "Enter search string:XA\n",
      "LOWER CASE: dang di choi xa\n",
      "Search string found. XA\n"
     ]
    }
   ],
   "source": [
    "string = raw_input(\"Enter a string:\")\n",
    "searchString = raw_input(\"Enter search string:\")\n",
    "\n",
    "stringLen = len(string)\n",
    "searchStringLen = len(searchString)\n",
    "\n",
    "print \"LOWER CASE:\",string.lower()\n",
    "\n",
    "found = False\n",
    "\n",
    "for index in range(0,stringLen-searchStringLen+1):\n",
    "    \n",
    "    text = string[index:index+searchStringLen]\n",
    "    \n",
    "    if searchString == text:\n",
    "        print \"Search string found.\",searchString\n",
    "    \n",
    "        found = True\n",
    "        break\n",
    "    \n",
    "if found == False:\n",
    "    print\"Search string not found\"\n",
    "\n"
   ]
  },
  {
   "cell_type": "markdown",
   "metadata": {},
   "source": [
    "# Exercise 5 - Parsing a comma separated set of values \n",
    "\n",
    "Ask the user to type in a grocery list. Ensure that each item in the grocery list is separated by a comma. Use the split command to extract each token (item) in the grocery list. Print the last item in the list.\n",
    "\n",
    "For example, if the user enters \"milk,bananas,sugar,eggs,cheese\", you will need to read this into a variable, parse the contents using the split command and print \"cheese\"\n"
   ]
  },
  {
   "cell_type": "code",
   "execution_count": 26,
   "metadata": {},
   "outputs": [
    {
     "name": "stdout",
     "output_type": "stream",
     "text": [
      "Enter a grocery list:milk,bananas,sugar,eggs,cheese\n",
      " Grocery list ['milk', 'bananas', 'sugar', 'eggs', 'cheese']\n",
      "Last item in the grocery list: ['cheese']\n"
     ]
    }
   ],
   "source": [
    "groceryList = raw_input(\"Enter a grocery list:\")\n",
    "grocery =groceryList.split(\",\")\n",
    "\n",
    "print\" Grocery list\",grocery\n",
    "print\"Last item in the grocery list:\",grocery[-1:]\n",
    "\n"
   ]
  },
  {
   "cell_type": "markdown",
   "metadata": {},
   "source": [
    "# Exercise 6\n",
    "\n",
    "Ask the user to type in a grocery list and a search item. Ensure that each item in the grocery list is separated by a comma and an arbitrary number of spaces. Use the split command to search for the search item in this list.\n",
    "\n",
    "For example, let us say that the user enters \"\"milk , bananas, sugar, eggs, cheese \" (notice the arbitrary spaces between items) and the search term is \"eggs\". You will need to look for \"eggs\" in the grocery list and if found, print the message \"Item found\", otherwise, print \"Item not found\"\n"
   ]
  },
  {
   "cell_type": "code",
   "execution_count": 44,
   "metadata": {},
   "outputs": [
    {
     "name": "stdout",
     "output_type": "stream",
     "text": [
      "Enter a grocery list:milk,bananas,sugar,eggs,cheese\n",
      "Enter item to search:salt\n",
      "Item salt not found\n"
     ]
    }
   ],
   "source": [
    "groceryList = raw_input(\"Enter a grocery list:\")\n",
    "searchTerm = raw_input(\"Enter item to search:\")\n",
    "\n",
    "grocery = groceryList.split(\",\")\n",
    "\n",
    "\n",
    "found = False\n",
    "for search in grocery:\n",
    "    if search == searchTerm:\n",
    "            print \" Item found:\", search\n",
    "            \n",
    "            found = True\n",
    "            break\n",
    "\n",
    "if found == False:\n",
    "    print \"Item %s not found\" % (searchTerm)\n",
    "\n",
    "    "
   ]
  },
  {
   "cell_type": "markdown",
   "metadata": {},
   "source": [
    "# Exercise 7 \n",
    "\n",
    "Write a python program that takes in a list of words from the user and prints the shortest word in the list. If two words are equal short, just pick the first one that you see.\n"
   ]
  },
  {
   "cell_type": "code",
   "execution_count": 58,
   "metadata": {},
   "outputs": [
    {
     "name": "stdout",
     "output_type": "stream",
     "text": [
      "Enter more than 2 words, sepepate by comma:milk,bananas,sugar,eggs,cheese,salt\n",
      "The number of words is: 6.\n",
      "The shortest word is: milk.\n",
      "The longest word is: bananas.\n"
     ]
    }
   ],
   "source": [
    "words = raw_input(\"Enter more than 2 words, sepepate by comma:\")\n",
    "word = words.split(\",\")\n",
    "\n",
    "sortedwords = sorted(word, key=len)\n",
    "print \"The number of words is: %s.\" % (len(word),)\n",
    "print \"The shortest word is: %s.\" % (sortedwords[0],)\n",
    "print \"The longest word is: %s.\" % (sortedwords[-1],)\n"
   ]
  },
  {
   "cell_type": "markdown",
   "metadata": {},
   "source": [
    "# Exercise 8 \n",
    "\n",
    "Accept a line of text from the user with some repeating words. Ask the user to enter a search term (one of the repeating words). Count the number of times the search term repeats in the text.\n",
    "\n",
    "For example, if the sentence is - \"She sells sea shells on the sea shore\" and the search term is \"sea\", then the program should print the result 2, indicating that two occurrences of the word \"sea\" were found in the text\n"
   ]
  }
 ],
 "metadata": {
  "kernelspec": {
   "display_name": "Python 2",
   "language": "python",
   "name": "python2"
  },
  "language_info": {
   "codemirror_mode": {
    "name": "ipython",
    "version": 2
   },
   "file_extension": ".py",
   "mimetype": "text/x-python",
   "name": "python",
   "nbconvert_exporter": "python",
   "pygments_lexer": "ipython2",
   "version": "2.7.13"
  }
 },
 "nbformat": 4,
 "nbformat_minor": 2
}
