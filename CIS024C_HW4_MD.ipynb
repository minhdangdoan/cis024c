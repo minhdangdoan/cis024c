{
 "cells": [
  {
   "cell_type": "markdown",
   "metadata": {},
   "source": [
    "# Exercise 1\n",
    "1.What is the main difference between a list and a tuple\n",
    "\n",
    "Answer: list is mutable.Elements in list can be changed while tuple is immutable.\n",
    "\n",
    "2.How does a dictionary object differ from a list.\n",
    "\n",
    "Answer: list can content any elements while each element in a dictionary is a name-value pair."
   ]
  },
  {
   "cell_type": "markdown",
   "metadata": {},
   "source": [
    "# Exercise 2 - Initializing a list, tuple and dictionary \n",
    "#1.Create a list object with a set of any 10 numbers. Print the result\n",
    "#2.Create a tuple object with a set of 10 numbers. Print the result\n",
    "#3.Create a dictionary object with a set of 10 numbers. Print the result\n"
   ]
  },
  {
   "cell_type": "code",
   "execution_count": 2,
   "metadata": {},
   "outputs": [
    {
     "name": "stdout",
     "output_type": "stream",
     "text": [
      "list: [1, 3, 5, 7, 9, 2, 4, 6, 8, 10]\n",
      "Tuple: (10, 8, 6, 4, 2, 1, 3, 5, 7, 9)\n",
      "Dictionary: {1: 'a', 2: 'b', 3: 'c', 4: 'd', 5: 'e', 6: 'f', 7: 'g', 8: 'h', 9: 'i', 10: 'j'}\n"
     ]
    }
   ],
   "source": [
    "listResult = [1,3,5,7,9,2,4,6,8,10]\n",
    "tupleResult =(10,8,6,4,2,1,3,5,7,9)\n",
    "dictionaryResult ={1:'a',2:'b',3:'c',4:'d',5:'e',6:'f',7:'g',8:'h',9:'i',10:'j'}\n",
    "\n",
    "print \"list:\",listResult\n",
    "print \"Tuple:\",tupleResult\n",
    "print \"Dictionary:\",dictionaryResult"
   ]
  },
  {
   "cell_type": "markdown",
   "metadata": {},
   "source": [
    "# Exercise 3 - Displaying values in a list object¶ \n",
    "\n",
    "Create a list object with 10 arbitrary numbers. Use a  for loop  to display every other element.\n"
   ]
  },
  {
   "cell_type": "code",
   "execution_count": 3,
   "metadata": {},
   "outputs": [
    {
     "name": "stdout",
     "output_type": "stream",
     "text": [
      "1 3 5 7 9\n"
     ]
    }
   ],
   "source": [
    "a = [1,2,3,4,5,6,7,8,9,10]\n",
    "\n",
    "for i in range(1, len(a), 2):\n",
    "    print i,"
   ]
  },
  {
   "cell_type": "markdown",
   "metadata": {},
   "source": [
    "# Exercise 4 - Sorting a list of strings \n",
    "\n",
    "Ask the user to enter a list of names. Sort the names in ascending order.\n"
   ]
  },
  {
   "cell_type": "code",
   "execution_count": 5,
   "metadata": {},
   "outputs": [
    {
     "name": "stdout",
     "output_type": "stream",
     "text": [
      "result: ['Dang', 'Henry', 'Jack', 'Richard']\n"
     ]
    }
   ],
   "source": [
    "name = [\"Jack\",\"Henry\",\"Dang\",\"Richard\"]\n",
    "result =[]\n",
    "for i in range(len(name)):\n",
    "    \n",
    "    smallest = min(name)\n",
    "    result.append(smallest)\n",
    "    name.remove(smallest)\n",
    "\n",
    "print \"result:\",result"
   ]
  },
  {
   "cell_type": "markdown",
   "metadata": {},
   "source": [
    "# Exercise 5 - Accessing values in a dictionary object \n",
    "\n",
    "Initialize a dictionary object with the below key, value pairs\n",
    "\n",
    "\n",
    "Key\n",
    "\n",
    "Value\n",
    "\n",
    "\n",
    "1 Harry \n",
    "2 Sally \n",
    "3 Joe \n",
    "4 Mathew \n",
    "\n",
    "Ask the user to enter a key between 1 and 4.\n",
    "\n",
    "Display the corresponding value in the dictionary\n"
   ]
  },
  {
   "cell_type": "code",
   "execution_count": 35,
   "metadata": {},
   "outputs": [
    {
     "name": "stdout",
     "output_type": "stream",
     "text": [
      " Enter number from 1 to 4:2\n",
      " Number corresponding to name is: 2 Sally\n"
     ]
    }
   ],
   "source": [
    "x ={1:'Harry',2:'Sally',3:'Joe',4:'Mathew'}\n",
    "user = int(raw_input(\" Enter number from 1 to 4:\"))\n",
    "\n",
    "print \"Number corresponding to name is:\", user,x[user]\n"
   ]
  },
  {
   "cell_type": "markdown",
   "metadata": {},
   "source": [
    "# Exercise 6 \n",
    "\n",
    "Write a Python script to check if a given key already exists in a dictionary\n",
    "\n",
    "Hint: Use the get method to determine if a key exists\n"
   ]
  },
  {
   "cell_type": "code",
   "execution_count": 54,
   "metadata": {},
   "outputs": [
    {
     "name": "stdout",
     "output_type": "stream",
     "text": [
      "Enter the key:6\n",
      "The Key is not exist\n"
     ]
    }
   ],
   "source": [
    "y ={1:'Harry',2:'Sally',3:'Joe',4:'Mathew'}\n",
    "\n",
    "key = input(\"Enter the key:\")\n",
    "\n",
    "if y.get(key)== None:\n",
    "    \n",
    "    print \"The Key is not exist\"\n",
    "else:\n",
    "    print \"The key is\",key, \"and exist in dictionnary\"\n"
   ]
  },
  {
   "cell_type": "markdown",
   "metadata": {},
   "source": [
    "# Exercise 7¶ \n",
    "\n",
    "Write a Python script to create a dictionary that contains a sequence of numbers from 1 to n and their squares. Ask the user to enter n. Display the resulting dictionary.\n",
    "\n",
    "Example If user enters 5, then your dictionary will look like\n",
    "\n",
    "{1:1,2:4,3:9:4:16,5:25}\n",
    "\n",
    "Hint You will need to assign new values to the dictionary to create the dictionary object\n"
   ]
  },
  {
   "cell_type": "code",
   "execution_count": 287,
   "metadata": {},
   "outputs": [
    {
     "name": "stdout",
     "output_type": "stream",
     "text": [
      "Enter any possitve number:5\n",
      "{1: 1} {2: 4} {3: 9} {4: 16} {5: 25}\n"
     ]
    }
   ],
   "source": [
    "i = int(input(\"Enter any possitve number:\"))\n",
    "           \n",
    "    \n",
    "for i in range(1,i+1):\n",
    "    j = i*i\n",
    "    h = {i:j}\n",
    "        \n",
    "    print h,\n",
    "    \n",
    "    "
   ]
  },
  {
   "cell_type": "markdown",
   "metadata": {},
   "source": [
    "# Exercise 8¶ \n",
    "\n",
    "Refer to Exercise 7 for this problem.\n",
    "\n",
    "Write a python program to sum all the values in the above dictionary (n:n^2). Display the resulting sum\n"
   ]
  },
  {
   "cell_type": "code",
   "execution_count": 273,
   "metadata": {},
   "outputs": [
    {
     "name": "stdout",
     "output_type": "stream",
     "text": [
      "{1: 1, 2: 4, 3: 9, 4: 16, 5: 25}\n",
      "\n",
      "Sum of all values in dict: 55\n"
     ]
    }
   ],
   "source": [
    "dict8 = {1:1,2:4,3:9,4:16,5:25}\n",
    "\n",
    "print dict8\n",
    "print \"\\nSum of all values in dict:\",sum(dict8.values())\n",
    "    "
   ]
  },
  {
   "cell_type": "markdown",
   "metadata": {},
   "source": [
    "# Exercise 9 \n",
    "\n",
    "Write a Python program to sort the below dictionary by key in descending order.\n",
    "\n",
    "{2:\"Mary\",1:\"Sally\",5:\"Harry\",4:\"Joe\"}\n"
   ]
  },
  {
   "cell_type": "code",
   "execution_count": 277,
   "metadata": {},
   "outputs": [
    {
     "name": "stdout",
     "output_type": "stream",
     "text": [
      "Sally Mary Joe Harry\n"
     ]
    }
   ],
   "source": [
    "dict9 = {2:\"Mary\",1:\"Sally\",5:\"Harry\",4:\"Joe\"}\n",
    "\n",
    "for value in dict9.values():\n",
    "    print value,\n"
   ]
  },
  {
   "cell_type": "markdown",
   "metadata": {},
   "source": [
    "# Exercise 10 \n",
    "\n",
    "Write a python program to combine the below two dictionaries and display the resulting dictionary\n",
    "•Dictionary 1: {2:\"Mary\",1:\"Sally\",5:\"Harry\",4:\"Joe\"}\n",
    "•Dictionary 2: {6:\"John\",9:\"Nancy\",12:\"Peter\",8:\"Alice\"}\n"
   ]
  },
  {
   "cell_type": "code",
   "execution_count": 274,
   "metadata": {},
   "outputs": [
    {
     "name": "stdout",
     "output_type": "stream",
     "text": [
      "{1: 'Sally', 2: 'Mary', 4: 'Joe', 5: 'Harry', 6: 'John', 8: 'Alice', 9: 'Nancy', 12: 'Peter'}\n"
     ]
    }
   ],
   "source": [
    "dict1 = {2:\"Mary\",1:\"Sally\",5:\"Harry\",4:\"Joe\"}\n",
    "dict2 ={6:\"John\",9:\"Nancy\",12:\"Peter\",8:\"Alice\"}\n",
    "\n",
    "combineDict = {}\n",
    "\n",
    "for i in dict1.keys():\n",
    "    combineDict[i] =dict1[i]\n",
    "for i in dict2.keys():\n",
    "    combineDict[i] =dict2[i]\n",
    "    \n",
    "print combineDict\n"
   ]
  },
  {
   "cell_type": "code",
   "execution_count": null,
   "metadata": {
    "collapsed": true
   },
   "outputs": [],
   "source": []
  }
 ],
 "metadata": {
  "kernelspec": {
   "display_name": "Python 2",
   "language": "python",
   "name": "python2"
  },
  "language_info": {
   "codemirror_mode": {
    "name": "ipython",
    "version": 2
   },
   "file_extension": ".py",
   "mimetype": "text/x-python",
   "name": "python",
   "nbconvert_exporter": "python",
   "pygments_lexer": "ipython2",
   "version": "2.7.13"
  }
 },
 "nbformat": 4,
 "nbformat_minor": 2
}
