{
 "cells": [
  {
   "cell_type": "markdown",
   "metadata": {},
   "source": [
    "# Exercise 1 - Testing your knowledge of command line programs \n",
    "\n",
    "1.What is the benefit of executing a program from the command line as opposed to running it from within an editor like Jupyter or Spyder.\n",
    "\n",
    "ANS:\n",
    "+Allow for independent excution of python code\n",
    "+Allow for python code to be intergrate with other applications and workflows\n",
    "+Allow for external applications and user to pass additional arguments to a python program\n",
    "+Allow for the output of python code to be captured and processed by external applications\n",
    "    \n",
    "\n",
    "2.Name a Python library that you would use in order to pass arguments from the command line\n",
    "\n",
    "ANS:sys.argv"
   ]
  },
  {
   "cell_type": "markdown",
   "metadata": {},
   "source": [
    "# Exercise 2 - Creating and executing a command line program \n",
    "\n",
    "Write a Python program that gets two numbers from the user and displays the sum of the two numbers. Make sure to make this program a .py file, something you can run from the command line.\n",
    "\n",
    "Note:\n",
    "•You can use the %%writeline magic command in Jupyter to create this file, or you can simply use an external editor to create this file. Please refer to classwork in Github for examples.\n",
    "\n"
   ]
  },
  {
   "cell_type": "code",
   "execution_count": 8,
   "metadata": {},
   "outputs": [
    {
     "name": "stdout",
     "output_type": "stream",
     "text": [
      "Overwriting ex2.py\n"
     ]
    }
   ],
   "source": [
    "%%writefile ex2.py\n",
    "\n",
    "def add(n1,n2): \n",
    "    return n1+n2 \n",
    " \n",
    "n1 = int(raw_input(\"Enter a number1:\")) \n",
    "n2 = int(raw_input(\"Enter a number2:\")) \n",
    " \n",
    "print \"Total of 2 numbers is:\",add(n1,n2) "
   ]
  },
  {
   "cell_type": "markdown",
   "metadata": {},
   "source": [
    "# Exercise 3 - Accepting arguments from the command line \n",
    "\n",
    "Repeat the command line program above, however, this time, instead of accepting the numbers from the user using raw_input, pass in the two numbers as command line arguments.\n",
    "\n",
    "Note You can use sys.argv or argparse, whichever you are more comfortable with.\n"
   ]
  },
  {
   "cell_type": "code",
   "execution_count": 9,
   "metadata": {},
   "outputs": [
    {
     "name": "stdout",
     "output_type": "stream",
     "text": [
      "Overwriting ex3.py\n"
     ]
    }
   ],
   "source": [
    "%%writefile ex3.py\n",
    "\n",
    "import sys\n",
    "def add(number1, number2):\n",
    "    return number1+number2\n",
    "\n",
    "print add(int(sys.argv[1]),int(sys.argv[2]))"
   ]
  },
  {
   "cell_type": "markdown",
   "metadata": {
    "collapsed": true
   },
   "source": [
    "# Exercise 4 - Command Line programs with multiple modules \n",
    "\n",
    "This is also an extension to Exercises 2 and 3.\n",
    "\n",
    "Write a Python program to add two numbers. Your Python program must have a function called add that is placed in a separate module called helper.py. Your main program, which is also a standalone Python program main.py must import helper.py and use this module to add the two numbers.\n",
    "\n",
    "The numbers to be added must be passed via the command line.\n",
    "\n",
    "Here is an example of how your program would be invoked assuming the numbers to be added are 3 and 2\n",
    "\n",
    "python main.py 3 2\n"
   ]
  },
  {
   "cell_type": "code",
   "execution_count": 18,
   "metadata": {},
   "outputs": [
    {
     "name": "stdout",
     "output_type": "stream",
     "text": [
      "Writing helper.py\n"
     ]
    }
   ],
   "source": [
    "%%writefile helper.py\n",
    "\n",
    "def add(n1,n2):\n",
    "    return n1+n2\n",
    "    "
   ]
  },
  {
   "cell_type": "code",
   "execution_count": 19,
   "metadata": {},
   "outputs": [
    {
     "name": "stdout",
     "output_type": "stream",
     "text": [
      "Overwriting ex4.py\n"
     ]
    }
   ],
   "source": [
    "%%writefile ex4.py\n",
    "\n",
    "import sys\n",
    "import helper\n",
    "\n",
    "print helper.add(int(sys.argv[1]),int(sys.argv[2]))"
   ]
  },
  {
   "cell_type": "markdown",
   "metadata": {},
   "source": [
    "# Exercise 5 - Python program with multiple modules to sort a list of numbers \n",
    "\n",
    "Write a Python program to sort a list of numbers in ascending order. Your Python program must have a function called sortNumbers that is placed in a separate module called sorthelper.py. This function sortNumbers accepts a list of numbers. Your main program, which is also a standalone Python program main.py must import sorthelper.py and use this module to sort the numbers.\n",
    "\n",
    "The numbers to be sorted must be passed via the command line.\n",
    "\n",
    "Here is an example of how your program would be invoked assuming the numbers to be sorted are 5 4 3 and 8\n",
    "\n",
    "python main.py 5 4 3 8\n"
   ]
  },
  {
   "cell_type": "code",
   "execution_count": 12,
   "metadata": {},
   "outputs": [
    {
     "name": "stdout",
     "output_type": "stream",
     "text": [
      "Overwriting sorthelper.py\n"
     ]
    }
   ],
   "source": [
    "%%writefile sorthelper.py\n",
    "\n",
    "def sortNumbers(listN):       \n",
    "    for indexNumber in range(len(listN)-1,0,-1):        \n",
    "        for i in range(int(indexNumber)):            \n",
    "            if listN[i] > listN[i+1]:\n",
    "                temp = listN[i]\n",
    "                listN[i] = listN[i+1]\n",
    "                listN[i+1] = temp\n"
   ]
  },
  {
   "cell_type": "code",
   "execution_count": 13,
   "metadata": {},
   "outputs": [
    {
     "name": "stdout",
     "output_type": "stream",
     "text": [
      "Overwriting ex5.py\n"
     ]
    }
   ],
   "source": [
    "%%writefile ex5.py\n",
    "import sorthelper\n",
    "import sys\n",
    "\n",
    "getArgs = sys.argv\n",
    "numbers = []\n",
    "for i in range(1,len(getArgs)):\n",
    "    numbers.append(int(getArgs[i]))\n",
    "\n",
    "\n",
    "sorthelper.sortNumbers(numbers)\n",
    "print numbers\n",
    "\n"
   ]
  },
  {
   "cell_type": "code",
   "execution_count": null,
   "metadata": {
    "collapsed": true
   },
   "outputs": [],
   "source": []
  },
  {
   "cell_type": "code",
   "execution_count": null,
   "metadata": {
    "collapsed": true
   },
   "outputs": [],
   "source": []
  }
 ],
 "metadata": {
  "kernelspec": {
   "display_name": "Python 2",
   "language": "python",
   "name": "python2"
  },
  "language_info": {
   "codemirror_mode": {
    "name": "ipython",
    "version": 2
   },
   "file_extension": ".py",
   "mimetype": "text/x-python",
   "name": "python",
   "nbconvert_exporter": "python",
   "pygments_lexer": "ipython2",
   "version": "2.7.13"
  }
 },
 "nbformat": 4,
 "nbformat_minor": 2
}
