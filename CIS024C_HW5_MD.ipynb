{
 "cells": [
  {
   "cell_type": "markdown",
   "metadata": {},
   "source": [
    "# Exercise 1 - Testing your knowledge of files \n",
    "\n",
    "Answer the below questions\n",
    "# 1.In your own words, describe what a file is?\n",
    "\n",
    "#Ans: File is a collection of data or information. There are many different types of files: data  files, text files  , program   files,...etc.\n",
    "\n",
    "# 2.Why is it important to close a file after we are done using it?\n",
    "#Ans: We need to close the file after using to terminate resourses in use and free them up for system to deploy elsewhere.\n"
   ]
  },
  {
   "cell_type": "markdown",
   "metadata": {},
   "source": [
    "# Exercise 2 - Write to a file¶ \n",
    "\n",
    "#Write a python program to write the below lines to a file\n",
    "#•Name, Age, Gender, Profession\n",
    "#•Harry, 23, Male, Software Engineer\n",
    "#•Sam, 25, Male, Lawyer\n",
    "#•Lisa, 29, Female, Computer Scientist\n",
    "#•Mary, 22, Female, Doctor\n",
    "\n",
    "#Below are a set of recommended steps to accomplish this\n",
    "#1.open a file in write mode. This will return a handle to the file\n",
    "#2.use the write method to write each line to the file using the file handle returned in the open call\n",
    "#3.close the file when done\n",
    "\n",
    "#Once done, go to the folder where the file is and open it to make sure that this is written.\n",
    "\n",
    "#Refer to class exercises especially \"In [22]\" in #https://github.com/cis024c/fall2017classwork/blob/master/week5/working_with_files.ipynb\n"
   ]
  },
  {
   "cell_type": "code",
   "execution_count": 194,
   "metadata": {
    "collapsed": true
   },
   "outputs": [],
   "source": [
    "file = open(\"exercise2.txt\",\"w\")\n",
    "\n",
    "file.write (\"Name    ,Age    ,Gender    ,Profession\\n\")\n",
    "file.write (\"Harry   ,23     ,Male      ,Software Engineer\\n\")\n",
    "file.write (\"Sam     ,25     ,Male      ,Lawyer\\n\")\n",
    "file.write (\"Lisa    ,29     ,Female    ,Computer Scientist\\n\")\n",
    "file.write (\"Mary    ,22     ,Female    ,Doctor\")\n",
    "\n",
    "file.close()"
   ]
  },
  {
   "cell_type": "markdown",
   "metadata": {},
   "source": [
    "# Exercise 3 - Reading from a file \n",
    "\n",
    "#Read and display the data from the file you had just written to.\n",
    "\n",
    "#Below are a set of recommended steps to accomplish this\n",
    "#1.open the file in read mode. This will return a handle to the file.\n",
    "#2.You can now iterate through each line in the file and then use readline to read each line.\n",
    "#3.Display each line as you read it in\n",
    "\n",
    "#Note that you can also use the read method to read in all lines or the readlines method to read all lines into a list.\n"
   ]
  },
  {
   "cell_type": "code",
   "execution_count": 195,
   "metadata": {},
   "outputs": [
    {
     "name": "stdout",
     "output_type": "stream",
     "text": [
      "Name    ,Age    ,Gender    ,Profession\n",
      "Harry   ,23     ,Male      ,Software Engineer\n",
      "Sam     ,25     ,Male      ,Lawyer\n",
      "Lisa    ,29     ,Female    ,Computer Scientist\n",
      "Mary    ,22     ,Female    ,Doctor\n"
     ]
    }
   ],
   "source": [
    "# read file from exercise #2\n",
    "file = open(\"exercise2.txt\",\"r\")\n",
    "print file.read()\n"
   ]
  },
  {
   "cell_type": "code",
   "execution_count": 203,
   "metadata": {},
   "outputs": [
    {
     "name": "stdout",
     "output_type": "stream",
     "text": [
      "Nam\n"
     ]
    }
   ],
   "source": [
    "# read singleline in file from exercise #2\n",
    "file = open(\"exercise2.txt\",\"r\")\n",
    "\n",
    "print file.readline(3)\n",
    "\n",
    "#why readline command cann't read the full line??"
   ]
  },
  {
   "cell_type": "markdown",
   "metadata": {},
   "source": [
    "# Exercise 4 - Finding the average age of users in a file¶ \n",
    "\n",
    "#Write a python program to find the average age of users in the file you just created.\n",
    "\n",
    "#Below are a set of recommended steps to accomplish this\n",
    "1.Open the file in read mode\n",
    "2.Read in each line of the file\n",
    "3.Split each line in the file to get the age\n",
    "4.Find the average age and display it\n"
   ]
  },
  {
   "cell_type": "code",
   "execution_count": 4,
   "metadata": {},
   "outputs": [
    {
     "name": "stdout",
     "output_type": "stream",
     "text": [
      "Age list [23, 25, 29, 22] of  4 users\n",
      "The average age of  4 users is: 24\n"
     ]
    }
   ],
   "source": [
    "file = open(\"exercise2.txt\",\"r\")\n",
    "\n",
    "ageList = []\n",
    "count = 0\n",
    "\n",
    "file .readline()\n",
    "\n",
    "for line in file:\n",
    "    splitAge = line.split(\",\")\n",
    "    findAge =splitAge[len(splitAge)-3]\n",
    "    \n",
    "    count = count+1\n",
    "    \n",
    "    #convert to interger\n",
    "    findAge = int(findAge)\n",
    "    \n",
    "    #update the list\n",
    "    ageList.append(findAge)\n",
    "    \n",
    "\n",
    "print \"Age list\", ageList, \"of \",count, \"users\"\n",
    "    \n",
    "total = sum(ageList)\n",
    "\n",
    "aveAge = total/count\n",
    "\n",
    "print \"The average age of \",count,\"users is:\", aveAge\n",
    "      \n",
    "        "
   ]
  },
  {
   "cell_type": "markdown",
   "metadata": {},
   "source": [
    "# Exercise 5 - Appending to a file \n",
    "\n",
    "Write a python program to append information provided by users to an existing file.\n",
    "\n",
    "You will need to\n",
    "1.ask the user to enter their name, age, gender and profession using the raw_input method (for Python 3 users, you will use the input method).\n",
    "2.open the file you just created in the above exercies in append mode and write this information to the file.\n",
    "\n",
    "Remember to make sure that the information you append is entered in the same format where each field is separated by commas.\n"
   ]
  },
  {
   "cell_type": "code",
   "execution_count": 5,
   "metadata": {},
   "outputs": [
    {
     "name": "stdout",
     "output_type": "stream",
     "text": [
      "Enter your first name, age, gender, and profession seperate by comma:Dang    ,37      ,male    ,engineer\n"
     ]
    }
   ],
   "source": [
    "\n",
    "\n",
    "user = raw_input(\"Enter your first name, age, gender, and profession seperate by comma:\")\n",
    "\n",
    "file = open(\"exercise2.txt\",\"a\")\n",
    "\n",
    "file.write(\"\\n\")\n",
    "file.writelines (user)\n",
    "\n",
    "\n",
    "\n",
    "file.close()\n",
    "\n"
   ]
  },
  {
   "cell_type": "code",
   "execution_count": 153,
   "metadata": {},
   "outputs": [
    {
     "name": "stdout",
     "output_type": "stream",
     "text": [
      "Name    ,Age    ,Gender    ,Profession\n",
      "Harry   ,23     ,Male      ,Software Engineer\n",
      "Sam     ,25     ,Male      ,Lawyer\n",
      "Lisa    ,29     ,Female    ,Computer Scientist\n",
      "Mary    ,22     ,Female    ,Doctor\n",
      "Dang    ,37      ,male    ,engineer\n"
     ]
    }
   ],
   "source": [
    "file = open(\"exercise2.txt\",\"r\")\n",
    "print file.read()\n"
   ]
  },
  {
   "cell_type": "markdown",
   "metadata": {
    "collapsed": true
   },
   "source": [
    "# Exercise 6 \n",
    "\n",
    "Write a program to read the file aliceText.txt and count the number of times that the word \"house\" occurs in the text.\n"
   ]
  },
  {
   "cell_type": "code",
   "execution_count": 171,
   "metadata": {},
   "outputs": [
    {
     "name": "stdout",
     "output_type": "stream",
     "text": [
      "('house', 8)\n"
     ]
    }
   ],
   "source": [
    "file = open(\"alice.txt\",\"r\")\n",
    "wordcount = {}\n",
    "\n",
    "#read all lines in to list\n",
    "linesList = file.read()\n",
    "\n",
    "#split all words in the list\n",
    "words = linesList.split()\n",
    "\n",
    "for word in words:\n",
    "\n",
    "    if word not in wordcount:\n",
    "        wordcount[word] = 1\n",
    "    else:\n",
    "        wordcount[word] = wordcount[word]+1\n",
    "\n",
    "for key, value in wordcount.items():\n",
    "    if key== \"house\":\n",
    "       \n",
    "    \n",
    "        print (key,value)"
   ]
  },
  {
   "cell_type": "markdown",
   "metadata": {},
   "source": [
    "# Exercise 7 \n",
    "\n",
    "Write a python program to read the file aliceText.txt and find\n",
    "•the number of characters in the file\n",
    "•the number of words in the file\n",
    "•the number of lines in the file\n",
    "\n",
    "Display the result\n"
   ]
  },
  {
   "cell_type": "code",
   "execution_count": 169,
   "metadata": {},
   "outputs": [
    {
     "name": "stdout",
     "output_type": "stream",
     "text": [
      "Number of character: 169859\n",
      "Number of line: 3736\n",
      "Number of words 23446\n"
     ]
    }
   ],
   "source": [
    "file = open(\"alice.txt\",\"r\")\n",
    "\n",
    "#print the first line to check character\n",
    "#file.readline()\n",
    "\n",
    "char = file.read()\n",
    "\n",
    "print \"Number of character:\",len(char)\n",
    "\n",
    "file.close()\n",
    "\n",
    "#Read number of lines:\n",
    "file = open(\"alice.txt\",\"r\")\n",
    "\n",
    "lines = file.readlines()\n",
    "\n",
    "print \"Number of line:\",len(lines)\n",
    "\n",
    "file.close()\n",
    "\n",
    "\n",
    "# read all words\n",
    "file = open(\"alice.txt\",\"r\")\n",
    "wordcount = {}\n",
    "count =0\n",
    "#read all lines in to list\n",
    "linesList = file.read()\n",
    "\n",
    "#split all words in the list\n",
    "words = linesList.split()\n",
    "\n",
    "for word in words:\n",
    "\n",
    "    if word not in wordcount:\n",
    "        wordcount[word] = 1\n",
    "    else:\n",
    "        wordcount[word] += 1\n",
    "        count = count +1\n",
    "print \"Number of words\",count\n"
   ]
  },
  {
   "cell_type": "markdown",
   "metadata": {},
   "source": [
    "# Exercise 8 \n",
    "\n",
    "Write a Python program to read the file aliceText.txt and find the top 10 most frequent words in the file. Display the result\n",
    "\n",
    "Below are recommended steps for this program\n",
    "•Read the contents of the file\n",
    "•Initialize a dictionary to maintain the counts of each word\n",
    "•Loop through each word in the file◾If the word is new, then add to dictionary and initialize count to 1 for this word\n",
    "◾If the word is already in the dictionary, then increment the count of that word by 1\n",
    "\n",
    "•Use the sorted method to sort all values in descending order - See the example code at the end of this assignment for an example on sorting a dictionary in reverse order by value\n"
   ]
  },
  {
   "cell_type": "code",
   "execution_count": 181,
   "metadata": {},
   "outputs": [
    {
     "name": "stdout",
     "output_type": "stream",
     "text": [
      "the 1664\n",
      "and 780\n",
      "to 773\n",
      "a 662\n",
      "of 596\n",
      "she 484\n",
      "said 416\n",
      "in 401\n",
      "it 356\n",
      "was 329\n"
     ]
    }
   ],
   "source": [
    "file = open(\"alice.txt\",\"r\")\n",
    "wordcount = {}\n",
    "count = 0\n",
    "\n",
    "#read all lines in to list\n",
    "linesList = file.read()\n",
    "\n",
    "#split all words in the list\n",
    "words = linesList.split()\n",
    "\n",
    "for word in words:\n",
    "\n",
    "    if word not in wordcount:\n",
    "        wordcount[word] = 1\n",
    "    else:\n",
    "        wordcount[word] += 1  \n",
    "        \n",
    "sortedDict = sorted(wordcount, key=wordcount.get, reverse=True)\n",
    "\n",
    "for key in sortedDict[:10]:\n",
    "    print key,wordcount[key] "
   ]
  }
 ],
 "metadata": {
  "kernelspec": {
   "display_name": "Python 2",
   "language": "python",
   "name": "python2"
  },
  "language_info": {
   "codemirror_mode": {
    "name": "ipython",
    "version": 2
   },
   "file_extension": ".py",
   "mimetype": "text/x-python",
   "name": "python",
   "nbconvert_exporter": "python",
   "pygments_lexer": "ipython2",
   "version": "2.7.13"
  }
 },
 "nbformat": 4,
 "nbformat_minor": 2
}
