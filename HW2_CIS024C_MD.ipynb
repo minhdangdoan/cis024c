{
 "cells": [
  {
   "cell_type": "markdown",
   "metadata": {},
   "source": [
    "### Check python version"
   ]
  },
  {
   "cell_type": "code",
   "execution_count": null,
   "metadata": {},
   "outputs": [
    {
     "name": "stderr",
     "output_type": "stream",
     "text": [
      "Python 2.7.13 :: Anaconda 4.4.0 (64-bit)\n"
     ]
    }
   ],
   "source": [
    "!python --version"
   ]
  },
  {
   "cell_type": "markdown",
   "metadata": {},
   "source": [
    "### Exercise 1 - if statement¶ \n",
    "\n",
    "### Write a python program to accept a number from the user. Use the if statement to check to see if the number is greater than 100. If the number is greater than 100, print the message \"Found a number greater than 100\"\n"
   ]
  },
  {
   "cell_type": "code",
   "execution_count": 1,
   "metadata": {},
   "outputs": [
    {
     "name": "stdout",
     "output_type": "stream",
     "text": [
      " Enter the number:120\n",
      "Found a number greater than 100\n"
     ]
    }
   ],
   "source": [
    "number = int(raw_input(\" Enter the number:\"))\n",
    "if number > 100:\n",
    "    print \"Found a number greater than 100\""
   ]
  },
  {
   "cell_type": "markdown",
   "metadata": {},
   "source": [
    "### Exercise 2 - if...else statement¶ \n",
    "### Write a python program to accept the name of a user. Use the if statement to check to see if the name is \"Joe\". If the name is \"Joe\", print the message \"User Joe was entered\", otherwise if the name is not \"Joe\", print a message saying that \"User Joe was not entered\"\n"
   ]
  },
  {
   "cell_type": "code",
   "execution_count": 2,
   "metadata": {},
   "outputs": [
    {
     "name": "stdout",
     "output_type": "stream",
     "text": [
      "Enter user name:Joe\n",
      "User Joe was entered\n"
     ]
    }
   ],
   "source": [
    "userName = raw_input(\"Enter user name:\")\n",
    "if userName == \"Joe\":\n",
    "    print \"User Joe was entered\"\n",
    "else:\n",
    "    print \"user Joe was not entered\""
   ]
  },
  {
   "cell_type": "markdown",
   "metadata": {},
   "source": [
    "### Exercise 3 - if..elif...else statement¶ \n",
    "\n",
    "### Write a python program to accept the salary of the user.\n",
    "\n",
    "### If the salary is less than 70,000, then print the message \"User salary is less than 70000\", otherwise if the salary is less than 100,000, print the message \"User salary is less than 100,000, otherwise, print the message \"User salary is greater than or equal to 100,000\"\n"
   ]
  },
  {
   "cell_type": "code",
   "execution_count": 3,
   "metadata": {},
   "outputs": [
    {
     "name": "stdout",
     "output_type": "stream",
     "text": [
      "Enter user salary:200000\n",
      "User salary is greater than 100000\n"
     ]
    }
   ],
   "source": [
    "userSalary = int(input(\"Enter user salary:\"))\n",
    "if userSalary < 70000:\n",
    "    print \"User salary is less than 70000\"\n",
    "elif userSalary <100000:\n",
    "    print \"User salary is less than 100000\"\n",
    "else:\n",
    "    print \"User salary is greater than 100000\""
   ]
  },
  {
   "cell_type": "markdown",
   "metadata": {},
   "source": [
    "### Exercise 4 - for loop \n",
    "\n",
    "### Write a program to get a number from the user. Find the some of all numbers from 1 to the number that the user entered.\n",
    "\n",
    "\n"
   ]
  },
  {
   "cell_type": "code",
   "execution_count": 4,
   "metadata": {},
   "outputs": [
    {
     "name": "stdout",
     "output_type": "stream",
     "text": [
      "Enter the ending number:10\n",
      "Sum of all numbers from 1 to 10 is 1\n",
      "Sum of all numbers from 1 to 10 is 3\n",
      "Sum of all numbers from 1 to 10 is 6\n",
      "Sum of all numbers from 1 to 10 is 10\n",
      "Sum of all numbers from 1 to 10 is 15\n",
      "Sum of all numbers from 1 to 10 is 21\n",
      "Sum of all numbers from 1 to 10 is 28\n",
      "Sum of all numbers from 1 to 10 is 36\n",
      "Sum of all numbers from 1 to 10 is 45\n",
      "Sum of all numbers from 1 to 10 is 55\n"
     ]
    }
   ],
   "source": [
    "numberSum = 0\n",
    "endNumber = int(raw_input(\"Enter the ending number:\"))\n",
    "\n",
    "for number in range(1,endNumber+1):\n",
    "    numberSum = numberSum + number\n",
    "    print \"Sum of all numbers from 1 to %s is %s\" %(endNumber,numberSum)"
   ]
  },
  {
   "cell_type": "markdown",
   "metadata": {},
   "source": [
    "### Exercise - while loop \n",
    "### Guessing a number.\n",
    "### Initialize a variable called myNumber to any arbitrary value. For example, maybe you thought of a number 9\n",
    "### Use the while loop to ask the user to enter a number. Check to see if the number entered by the user matches the number myNumber that you thought of. If there is a match, break from the while loop and print \"Yippee! User guessed the right number\". If there is no match allow the while loop to continue to ask the user for a number until a match is found"
   ]
  },
  {
   "cell_type": "code",
   "execution_count": 5,
   "metadata": {},
   "outputs": [
    {
     "name": "stdout",
     "output_type": "stream",
     "text": [
      "Guess the number:9\n",
      "Yippee!User guess the right number\n"
     ]
    }
   ],
   "source": [
    "myNumber = 9\n",
    "\n",
    "while True:\n",
    "    userNumber = int(raw_input(\"Guess the number:\"))\n",
    "    if userNumber == myNumber:\n",
    "        print \"Yippee!User guess the right number\"\n",
    "        break\n",
    "    else:\n",
    "        print \"Wrong.Guess the other number\"\n"
   ]
  },
  {
   "cell_type": "markdown",
   "metadata": {},
   "source": [
    "### Exercise 6 \n",
    "\n",
    "### Write a Python program to convert temperatures to and from celsius, fahrenheit.\n",
    "\n",
    "### [ Formula : c/5 = f-32/9 [ where c = temperature in celsius and f = temperature in fahrenheit ]\n"
   ]
  },
  {
   "cell_type": "code",
   "execution_count": 6,
   "metadata": {},
   "outputs": [
    {
     "name": "stdout",
     "output_type": "stream",
     "text": [
      "Enter Celsius dergree:25\n",
      " 25.0 C degree is 77.0 F degree\n",
      "Enter Fahrenheit dergree:77\n",
      " 77.0 F degree is 25.0 C degree\n"
     ]
    }
   ],
   "source": [
    "# convert temperature from Celsius to Fahrenheit\n",
    "\n",
    "celsiusDeg = float(raw_input(\"Enter Celsius dergree:\"))\n",
    "fahrenheitDeg = celsiusDeg*9/5 + 32\n",
    "print \" %s C degree is %s F degree\" %(celsiusDeg,fahrenheitDeg)\n",
    "\n",
    "fahrenheitDeg = float(raw_input(\"Enter Fahrenheit dergree:\"))\n",
    "celsiusDeg = (fahrenheitDeg-32)*5/9\n",
    "print \" %s F degree is %s C degree\" %(fahrenheitDeg,celsiusDeg)"
   ]
  },
  {
   "cell_type": "markdown",
   "metadata": {},
   "source": [
    "### Exercise 7\n",
    "### Write a Python program that prints all the numbers from 0 to 10 except 1 and 5. Use the for loop\n"
   ]
  },
  {
   "cell_type": "code",
   "execution_count": 7,
   "metadata": {},
   "outputs": [
    {
     "name": "stdout",
     "output_type": "stream",
     "text": [
      "0\n",
      "2\n",
      "3\n",
      "4\n",
      "6\n",
      "7\n",
      "8\n",
      "9\n",
      "10\n"
     ]
    }
   ],
   "source": [
    "for x in range(11):\n",
    "    if (x == 1 or x ==5):\n",
    "        continue\n",
    "    print x"
   ]
  },
  {
   "cell_type": "markdown",
   "metadata": {},
   "source": [
    "### Exercise 8 \n",
    "\n",
    "### Write a Python program that reads two integers representing a month and day and prints the season for that month and day. Refer to this URL https://www.timeanddate.com/calendar/aboutseasons.html for when a season starts and ends in North America (Northern Meteorological Seasons)\n"
   ]
  },
  {
   "cell_type": "code",
   "execution_count": 8,
   "metadata": {},
   "outputs": [
    {
     "name": "stdout",
     "output_type": "stream",
     "text": [
      "Enter the month:3\n",
      "Enter the date:6\n",
      "SPRING\n"
     ]
    }
   ],
   "source": [
    "month = int(raw_input(\"Enter the month:\"))\n",
    "day = int(raw_input(\"Enter the date:\"))\n",
    "\n",
    "\n",
    "\n",
    "if  month in (3,4,5) and day <=31:\n",
    "    print \"SPRING\"\n",
    "elif month in (6,7,8) and day <=31:\n",
    "    print \"SUMMER\"\n",
    "elif month in (9,10,11) and day <=31:\n",
    "    print \"FALL\"\n",
    "    \n",
    "elif month in (12,1,2) and day <=31:\n",
    "    print \"WINTER\"\n",
    "    \n",
    "else:\n",
    "    print \"Please check your month and date \"\n",
    "    \n",
    "\n"
   ]
  },
  {
   "cell_type": "markdown",
   "metadata": {},
   "source": [
    "### Exercise 10¶ \n",
    "\n",
    "### Write a Python program to create the multiplication table (from 1 to 10) of a number. Use the formatted print statements that you learnt in Week 2 and the for loop to print this table.\n",
    "\n",
    "\n"
   ]
  },
  {
   "cell_type": "code",
   "execution_count": 9,
   "metadata": {},
   "outputs": [
    {
     "name": "stdout",
     "output_type": "stream",
     "text": [
      "Enter the number:6\n",
      "6 X 1 = 6\n",
      "6 X 2 = 12\n",
      "6 X 3 = 18\n",
      "6 X 4 = 24\n",
      "6 X 5 = 30\n",
      "6 X 6 = 36\n",
      "6 X 7 = 42\n",
      "6 X 8 = 48\n",
      "6 X 9 = 54\n",
      "6 X 10 = 60\n"
     ]
    }
   ],
   "source": [
    " x = int(raw_input(\"Enter the number:\"))\n",
    "\n",
    "for y in range (1,11):\n",
    "    z = x*y\n",
    "    print \"%s X %s = %s\" % (x,y,z)"
   ]
  },
  {
   "cell_type": "markdown",
   "metadata": {},
   "source": [
    "### Exercise 9 \n",
    "\n",
    "### Use a while loop to ask the user to enter a number. Print a running total of all the numbers that the user enters. If the user enters 0, break from the while loop.\n"
   ]
  },
  {
   "cell_type": "code",
   "execution_count": 16,
   "metadata": {},
   "outputs": [
    {
     "name": "stdout",
     "output_type": "stream",
     "text": [
      "Enter the number:3\n",
      "3\n",
      "Continue\n",
      "Enter the number:2\n",
      "5\n",
      "Continue\n",
      "Enter the number:10\n",
      "15\n",
      "Continue\n",
      "Enter the number:0\n",
      "15\n",
      " User enters 0.Program stop\n"
     ]
    }
   ],
   "source": [
    "total = 0\n",
    "while True:\n",
    "    \n",
    "    userNumber = int(input(\"Enter the number:\"))\n",
    "    total  = total + userNumber\n",
    "    print total\n",
    "    if userNumber == 0:\n",
    "        print\" User enters 0.Program stop\"\n",
    "        break\n",
    "        \n",
    "    else:\n",
    "        print\"Continue\"\n",
    "    "
   ]
  },
  {
   "cell_type": "code",
   "execution_count": null,
   "metadata": {
    "collapsed": true
   },
   "outputs": [],
   "source": []
  }
 ],
 "metadata": {
  "kernelspec": {
   "display_name": "Python 2",
   "language": "python",
   "name": "python2"
  },
  "language_info": {
   "codemirror_mode": {
    "name": "ipython",
    "version": 2
   },
   "file_extension": ".py",
   "mimetype": "text/x-python",
   "name": "python",
   "nbconvert_exporter": "python",
   "pygments_lexer": "ipython2",
   "version": "2.7.13"
  }
 },
 "nbformat": 4,
 "nbformat_minor": 2
}
