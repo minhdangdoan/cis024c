{
 "cells": [
  {
   "cell_type": "code",
   "execution_count": 1,
   "metadata": {},
   "outputs": [
    {
     "name": "stdout",
     "output_type": "stream",
     "text": [
      "5 10\n"
     ]
    }
   ],
   "source": [
    "#sample 1:\n",
    "x = 5\n",
    "y = 10\n",
    "print x,y"
   ]
  },
  {
   "cell_type": "code",
   "execution_count": 2,
   "metadata": {},
   "outputs": [
    {
     "name": "stdout",
     "output_type": "stream",
     "text": [
      "30\n"
     ]
    }
   ],
   "source": [
    "# sample 2:\n",
    "x = 10\n",
    "y = 20\n",
    "z = x + y\n",
    "print z"
   ]
  },
  {
   "cell_type": "code",
   "execution_count": 3,
   "metadata": {},
   "outputs": [
    {
     "name": "stdout",
     "output_type": "stream",
     "text": [
      "5 6\n"
     ]
    }
   ],
   "source": [
    "#excercise 3.1:\n",
    "a = 5\n",
    "b = 6\n",
    "print a,b"
   ]
  },
  {
   "cell_type": "code",
   "execution_count": 4,
   "metadata": {},
   "outputs": [
    {
     "name": "stdout",
     "output_type": "stream",
     "text": [
      "Hello Oscar\n"
     ]
    }
   ],
   "source": [
    "#excercise 3.2:\n",
    "greeting = \"Hello\"\n",
    "person = \"Oscar\"\n",
    "print greeting,person"
   ]
  },
  {
   "cell_type": "code",
   "execution_count": 5,
   "metadata": {},
   "outputs": [
    {
     "name": "stdout",
     "output_type": "stream",
     "text": [
      "HelloOscar\n"
     ]
    }
   ],
   "source": [
    "#excercise 3.3\n",
    "personalGreeting = greeting + person\n",
    "print personalGreeting"
   ]
  },
  {
   "cell_type": "code",
   "execution_count": 6,
   "metadata": {},
   "outputs": [
    {
     "name": "stdout",
     "output_type": "stream",
     "text": [
      "Enter your age:35\n",
      "the age is greater than 35\n"
     ]
    }
   ],
   "source": [
    "#excercise 3.4 to 3.7\n",
    "age = int(input(\"Enter your age:\"))\n",
    "if age >= 35:\n",
    "    print \"the age is greater than 35\"\n",
    "else:\n",
    "    print \"the age is not greater than 35\""
   ]
  },
  {
   "cell_type": "code",
   "execution_count": 10,
   "metadata": {},
   "outputs": [
    {
     "name": "stdout",
     "output_type": "stream",
     "text": [
      " 2 2 2\n"
     ]
    }
   ],
   "source": [
    "#excercise 3.8\n",
    "number = int(10)\n",
    "result1 = number/4\n",
    "result2 = number//4\n",
    "result3 = number%4\n",
    "\n",
    "print result1,result2,result3\n"
   ]
  },
  {
   "cell_type": "code",
   "execution_count": 14,
   "metadata": {},
   "outputs": [
    {
     "name": "stdout",
     "output_type": "stream",
     "text": [
      "25.3375 25.0 1.35\n"
     ]
    }
   ],
   "source": [
    "#exercise 3.9\n",
    "number = float(101.35)\n",
    "result4 = number/4\n",
    "result5 = number//4\n",
    "result6 = number%4\n",
    "\n",
    "print result4,result5,result6"
   ]
  },
  {
   "cell_type": "code",
   "execution_count": 17,
   "metadata": {},
   "outputs": [
    {
     "name": "stdout",
     "output_type": "stream",
     "text": [
      "My age: 21\n",
      "Your age: 25\n",
      "His age: 25\n",
      "My age is same as your age: False\n",
      "My age is same as his age: False\n"
     ]
    }
   ],
   "source": [
    "#exercise 3.10\n",
    "myAge = int(21)\n",
    "yourAge = int(25)\n",
    "hisAge = int(25)\n",
    "result1 = (myAge==yourAge)\n",
    "result2 = (myAge==hisAge)\n",
    "\n",
    "print \"My age:\",myAge\n",
    "print \"Your age:\",yourAge\n",
    "print\"His age:\",hisAge\n",
    "print \"My age is same as your age:\",result1\n",
    "print \"My age is same as his age:\",result2\n",
    "\n"
   ]
  },
  {
   "cell_type": "code",
   "execution_count": null,
   "metadata": {
    "collapsed": true
   },
   "outputs": [],
   "source": []
  }
 ],
 "metadata": {
  "kernelspec": {
   "display_name": "Python 2",
   "language": "python",
   "name": "python2"
  },
  "language_info": {
   "codemirror_mode": {
    "name": "ipython",
    "version": 2
   },
   "file_extension": ".py",
   "mimetype": "text/x-python",
   "name": "python",
   "nbconvert_exporter": "python",
   "pygments_lexer": "ipython2",
   "version": "2.7.13"
  }
 },
 "nbformat": 4,
 "nbformat_minor": 2
}
