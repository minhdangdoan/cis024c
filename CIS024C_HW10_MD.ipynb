{
 "cells": [
  {
   "cell_type": "code",
   "execution_count": null,
   "metadata": {},
   "outputs": [],
   "source": [
    "!python --version"
   ]
  },
  {
   "cell_type": "markdown",
   "metadata": {},
   "source": [
    "# Exercise 1 - Testing your knowledge of object oriented programming concepts \n",
    "\n",
    "Answer the below questions\n",
    "1.Why do we need classes?\n",
    "Ans: Classes are a way to enclose functions and their relevant data. \n",
    "\n",
    "2.What is encapsulation?\n",
    "Ans: procedure and data are stored together. "
   ]
  },
  {
   "cell_type": "markdown",
   "metadata": {},
   "source": [
    "# Exercise 2 - Class creation \n",
    "\n",
    "Create a Python class named Employee with the following attributes and methods\n",
    "\n",
    "Data members\n",
    "1. employeeName  - type string\n",
    "2. employeeAge  - type int\n",
    "3. employeeSalary - type float\n",
    "\n",
    "Methods:\n",
    "1. getEmployee - returns employee name\n",
    "2. getEmployeeAge - gets the employee age\n",
    "3. getEmployeeSalary - returns the employee salary\n",
    "4. __init__ - initialize method accepts the name, age and salary of the employee\n",
    "\n",
    "Create an object of type Employee and initialize with arbitrary values. Invoke the get methods and display the result.\n"
   ]
  },
  {
   "cell_type": "code",
   "execution_count": 1,
   "metadata": {},
   "outputs": [
    {
     "name": "stdout",
     "output_type": "stream",
     "text": [
      "Name, Age, Salary\n",
      "Dang 35 50000\n"
     ]
    }
   ],
   "source": [
    "class Employee():\n",
    "    def __init__(self,name,age,salary):\n",
    "        self.employeeName = name\n",
    "        self.employeeAge = age\n",
    "        self.employeeSalary =salary\n",
    "        \n",
    "    def getEmployee(self):\n",
    "        return self.employeeName\n",
    "    def getEmployeeAge (self):\n",
    "        return self.employeeAge\n",
    "    def getEmployeeSalary(self):\n",
    "        return self.employeeSalary\n",
    "    \n",
    "employee = Employee(\"Dang\",35,50000)\n",
    "\n",
    "print \"Name, Age, Salary\"\n",
    "print employee.getEmployee(),employee.getEmployeeAge(),employee.getEmployeeSalary()\n"
   ]
  },
  {
   "cell_type": "markdown",
   "metadata": {},
   "source": [
    "# Exercise 3 - Private members \n",
    "\n",
    "In the above Employee class make the employeeName, employeeAge and employeeSalary private so that their access is restricted to only within the class.\n"
   ]
  },
  {
   "cell_type": "code",
   "execution_count": 2,
   "metadata": {},
   "outputs": [
    {
     "name": "stdout",
     "output_type": "stream",
     "text": [
      "Name, Age, Salary\n"
     ]
    },
    {
     "ename": "AttributeError",
     "evalue": "Employee instance has no attribute 'employeeName'",
     "output_type": "error",
     "traceback": [
      "\u001b[1;31m---------------------------------------------------------------------------\u001b[0m",
      "\u001b[1;31mAttributeError\u001b[0m                            Traceback (most recent call last)",
      "\u001b[1;32m<ipython-input-2-3668b5c3cb0f>\u001b[0m in \u001b[0;36m<module>\u001b[1;34m()\u001b[0m\n\u001b[0;32m     15\u001b[0m \u001b[1;33m\u001b[0m\u001b[0m\n\u001b[0;32m     16\u001b[0m \u001b[1;32mprint\u001b[0m \u001b[1;34m\"Name, Age, Salary\"\u001b[0m\u001b[1;33m\u001b[0m\u001b[0m\n\u001b[1;32m---> 17\u001b[1;33m \u001b[1;32mprint\u001b[0m \u001b[0memployee\u001b[0m\u001b[1;33m.\u001b[0m\u001b[0mgetEmployee\u001b[0m\u001b[1;33m(\u001b[0m\u001b[1;33m)\u001b[0m\u001b[1;33m,\u001b[0m\u001b[0memployee\u001b[0m\u001b[1;33m.\u001b[0m\u001b[0mgetEmployeeAge\u001b[0m\u001b[1;33m(\u001b[0m\u001b[1;33m)\u001b[0m\u001b[1;33m,\u001b[0m\u001b[0memployee\u001b[0m\u001b[1;33m.\u001b[0m\u001b[0mgetEmployeeSalary\u001b[0m\u001b[1;33m(\u001b[0m\u001b[1;33m)\u001b[0m\u001b[1;33m\u001b[0m\u001b[0m\n\u001b[0m",
      "\u001b[1;32m<ipython-input-2-3668b5c3cb0f>\u001b[0m in \u001b[0;36mgetEmployee\u001b[1;34m(self)\u001b[0m\n\u001b[0;32m      6\u001b[0m \u001b[1;33m\u001b[0m\u001b[0m\n\u001b[0;32m      7\u001b[0m     \u001b[1;32mdef\u001b[0m \u001b[0mgetEmployee\u001b[0m\u001b[1;33m(\u001b[0m\u001b[0mself\u001b[0m\u001b[1;33m)\u001b[0m\u001b[1;33m:\u001b[0m\u001b[1;33m\u001b[0m\u001b[0m\n\u001b[1;32m----> 8\u001b[1;33m         \u001b[1;32mreturn\u001b[0m \u001b[0mself\u001b[0m\u001b[1;33m.\u001b[0m\u001b[0memployeeName\u001b[0m\u001b[1;33m\u001b[0m\u001b[0m\n\u001b[0m\u001b[0;32m      9\u001b[0m     \u001b[1;32mdef\u001b[0m \u001b[0mgetEmployeeAge\u001b[0m \u001b[1;33m(\u001b[0m\u001b[0mself\u001b[0m\u001b[1;33m)\u001b[0m\u001b[1;33m:\u001b[0m\u001b[1;33m\u001b[0m\u001b[0m\n\u001b[0;32m     10\u001b[0m         \u001b[1;32mreturn\u001b[0m \u001b[0mself\u001b[0m\u001b[1;33m.\u001b[0m\u001b[0memployeeAge\u001b[0m\u001b[1;33m\u001b[0m\u001b[0m\n",
      "\u001b[1;31mAttributeError\u001b[0m: Employee instance has no attribute 'employeeName'"
     ]
    }
   ],
   "source": [
    "class Employee():\n",
    "    def __init__(self,name,age,salary):\n",
    "        self.__employeeName = name\n",
    "        self.__employeeAge = age\n",
    "        self.__employeeSalary =salary\n",
    "        \n",
    "    def getEmployee(self):\n",
    "        return self.employeeName\n",
    "    def getEmployeeAge (self):\n",
    "        return self.employeeAge\n",
    "    def getEmployeeSalary(self):\n",
    "        return self.employeeSalary\n",
    "    \n",
    "employee = Employee(\"Dang\",35,50000)\n",
    "\n",
    "print \"Name, Age, Salary\"\n",
    "print employee.getEmployee(),employee.getEmployeeAge(),employee.getEmployeeSalary()"
   ]
  },
  {
   "cell_type": "markdown",
   "metadata": {},
   "source": [
    "# Exercise 4 - Adding setters and working with a list of Employees \n",
    "\n",
    "In the Employee class add the following methods\n",
    "1. setEmployeeAge - accepts age and sets it in the object\n",
    "2. setEmployeeName - accepts employee name and sets it in the object\n",
    "3. setEmployeeSalary - accepts employee salary and sets it i nthe object\n",
    "\n",
    "Create a list of employees called employeeList. Initialize the list with three objects of type Employee. Initialize the object with the values \"None\" for employeeName, 0 for employeeAge and 0 for employeeSalary.\n",
    "\n",
    "Loop through each employee in the employeeList. Each time, request the user to enter the name, age and salary of a different employee. Use the set methods to set the name, age and salary for each employee in the employeeList.\n",
    "\n",
    "Loop through each employee in the employeeList. Display the name, age and salary of each employee.\n"
   ]
  },
  {
   "cell_type": "code",
   "execution_count": 3,
   "metadata": {},
   "outputs": [
    {
     "name": "stdout",
     "output_type": "stream",
     "text": [
      "Enter employee name: Alex\n",
      "Enter employee age: 23\n",
      "Enter employee salary: 30000\n",
      "Enter employee name: Brian\n",
      "Enter employee age: 34\n",
      "Enter employee salary: 40000\n",
      "Enter employee name: Kenny\n",
      "Enter employee age: 45\n",
      "Enter employee salary: 50000\n",
      "Name, age, salary\n",
      "Alex 23 30000\n",
      "Brian 34 40000\n",
      "Kenny 45 50000\n"
     ]
    }
   ],
   "source": [
    "class Employees:\n",
    "\n",
    "    def __init__(self,name,age,salary):\n",
    "        self.employeeName = name\n",
    "        self.empployeeAge = age\n",
    "        self.employeeSalary = salary\n",
    "        \n",
    "    def setEmployee(self,employeeName):\n",
    "        self.employeeName = employeeName\n",
    "        \n",
    "    def getEmployee(self):\n",
    "        return self.employeeName\n",
    "    \n",
    "    def setEmployeeAge(self,employeeAge):\n",
    "        self.employeeAge = employeeAge\n",
    "        \n",
    "    def getEmployeeAge(self):\n",
    "        return self.employeeAge\n",
    "    \n",
    "    def setEmployeeSalary(self,employeeSalary):\n",
    "        self.employeeSalary = employeeSalary\n",
    "        \n",
    "    def getEmployeeSalary(self):\n",
    "        return self.employeeSalary\n",
    "    \n",
    "#employee(Name,Age,Salary) \n",
    "\n",
    "emp1 = Employees(\"None\",0,0)\n",
    "emp2 = Employees(\"None\",0,0)\n",
    "emp3 = Employees(\"None\",0,0)\n",
    "\n",
    "employeeList =[emp1,emp2,emp3]\n",
    "\n",
    "\n",
    "for i in range(len(employeeList)):\n",
    "    name = raw_input(\"Enter employee name: \")\n",
    "    age = raw_input(\"Enter employee age: \")\n",
    "    salary = raw_input(\"Enter employee salary: \")\n",
    "    employeeList[i].setEmployee(name)\n",
    "    employeeList[i].setEmployeeAge(age)\n",
    "    employeeList[i].setEmployeeSalary(salary)\n",
    "    \n",
    "print \"Name, age, salary\"    \n",
    "\n",
    "for i in range(len(employeeList)):\n",
    "    \n",
    "    print  employeeList[i].getEmployee(),employeeList[i].getEmployeeAge() ,employeeList[i].getEmployeeSalary()\n",
    "    "
   ]
  },
  {
   "cell_type": "markdown",
   "metadata": {},
   "source": [
    "# Exercise 5 - Creating a Python calculator class \n",
    "\n",
    "Create a Python class called Calculator.\n",
    "\n",
    "The class has the following data members\n",
    "1. number1 - type float\n",
    "2. number2 - type float\n",
    "\n",
    "The class must have the below methods\n",
    "1. add - adds two numbers and returns the result\n",
    "2. subtract - subtracts the first number from the second number and returns the result\n",
    "3. multiply - multiply two numbers and returns the result\n",
    "4. divide - divide the first number by the second number and returns the result\n",
    "5. __init__ - accepts two numbers and uses those numbers to initialize number1 and number2 respectively\n",
    "\n",
    "Create an object of the Calculator class. Initialize it with any two arbitrary numbers. Invoke the methods add, subtract, multiple and divide and display the result\n"
   ]
  },
  {
   "cell_type": "code",
   "execution_count": 4,
   "metadata": {},
   "outputs": [
    {
     "name": "stdout",
     "output_type": "stream",
     "text": [
      " Add = 8.0, substract = 2.0, multiply = 15.0, devide = 1.66666666667\n"
     ]
    }
   ],
   "source": [
    "class calculator(object):\n",
    "    \n",
    "    def __init__(self,n1,n2):\n",
    "        self.number1 = n1\n",
    "        self.number2 = n2\n",
    "#add \n",
    "    def add(self):\n",
    "        return self.number1+self.number2\n",
    "    \n",
    "#subtract        \n",
    "    def subtract(self):\n",
    "        return self.number1-self.number2\n",
    "    \n",
    "#Multiply  \n",
    "\n",
    "    def multiply(self):\n",
    "        return self.number1*self.number2\n",
    "    \n",
    "#Devide  \n",
    "\n",
    "    def devide(self):\n",
    "        return self.number1/self.number2\n",
    "    \n",
    "    \n",
    "    \n",
    "    def __str__(self):\n",
    "        \n",
    "           return \" Add = %s, substract = %s, multiply = %s, devide = %s\" % (str(self.add()), str(self.subtract()),str(self.multiply()),str(self.devide()))\n",
    "        \n",
    "myCal = calculator(5.0,3)\n",
    "\n",
    "print myCal\n"
   ]
  },
  {
   "cell_type": "code",
   "execution_count": null,
   "metadata": {
    "collapsed": true
   },
   "outputs": [],
   "source": []
  }
 ],
 "metadata": {
  "kernelspec": {
   "display_name": "Python 2",
   "language": "python",
   "name": "python2"
  },
  "language_info": {
   "codemirror_mode": {
    "name": "ipython",
    "version": 2
   },
   "file_extension": ".py",
   "mimetype": "text/x-python",
   "name": "python",
   "nbconvert_exporter": "python",
   "pygments_lexer": "ipython2",
   "version": "2.7.13"
  }
 },
 "nbformat": 4,
 "nbformat_minor": 2
}
