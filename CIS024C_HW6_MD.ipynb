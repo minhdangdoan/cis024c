{
 "cells": [
  {
   "cell_type": "markdown",
   "metadata": {},
   "source": [
    "# Exercise 1 - Testing your knowledge of functions \n",
    "\n",
    "Answer the below questions\n",
    "1.What is a function in Python?\n",
    "\n",
    "Ans: A function is a block of reusable code that is used to perform a single, related action. \n",
    "\n",
    "2.What are the advantages of using functions?\n",
    "\n",
    "Ans:functions provide better modularity for application and a high degree of code reusing."
   ]
  },
  {
   "cell_type": "markdown",
   "metadata": {},
   "source": [
    "# Exercise 2 - Max of three numbers \n",
    "\n",
    "Write a Python function to find the Max of three numbers.\n",
    "\n",
    "Make sure you invoke this function in your main program and display the result\n"
   ]
  },
  {
   "cell_type": "code",
   "execution_count": 1,
   "metadata": {},
   "outputs": [
    {
     "name": "stdout",
     "output_type": "stream",
     "text": [
      "max of three is: 6\n"
     ]
    }
   ],
   "source": [
    "def maxoftree(x,y,z): \n",
    "    Max = x\n",
    "    if y > Max:\n",
    "        Max = y\n",
    "    if z >Max: \n",
    "        Max = z\n",
    "        \n",
    "    print \"max of three is:\",Max\n",
    "    \n",
    "maxoftree (3,4,6)\n",
    "        \n",
    "    "
   ]
  },
  {
   "cell_type": "markdown",
   "metadata": {},
   "source": [
    "# Exercise 3 - Finding the sum of numbers in a list¶ \n",
    "\n",
    "Write a Python function to sum all the numbers in a list\n",
    "\n",
    "Make sure you invoke this function in your main program and display the result\n"
   ]
  },
  {
   "cell_type": "code",
   "execution_count": 2,
   "metadata": {},
   "outputs": [
    {
     "name": "stdout",
     "output_type": "stream",
     "text": [
      "Sum of number in the list is 12\n"
     ]
    }
   ],
   "source": [
    "def sumlist(mylist):\n",
    "    sum = 0\n",
    "    for i in mylist:\n",
    "        sum = sum + i\n",
    "    return sum\n",
    "\n",
    "print \"Sum of number in the list is\", sumlist([4,6,2])"
   ]
  },
  {
   "cell_type": "markdown",
   "metadata": {},
   "source": [
    "# Exercise 4 - Finding the product of numbers in a list \n",
    "\n",
    "Write a Python function to multiply all the numbers in a list\n",
    "\n",
    "Make sure you invoke this function in your main program and display the result\n"
   ]
  },
  {
   "cell_type": "code",
   "execution_count": 3,
   "metadata": {},
   "outputs": [
    {
     "name": "stdout",
     "output_type": "stream",
     "text": [
      "Product of number in list is 48\n"
     ]
    }
   ],
   "source": [
    "def multilist(mylist):\n",
    "    multi = 1\n",
    "    for i in mylist:\n",
    "        multi = multi * i\n",
    "    return multi\n",
    "\n",
    "print \"Product of number in list is\", multilist([4,6,2])"
   ]
  },
  {
   "cell_type": "markdown",
   "metadata": {},
   "source": [
    "# Exercise 5 - Reversing a String¶ \n",
    "\n",
    "Write a Python function to reverse a string\n",
    "\n",
    "Make sure you invoke this function in your main program and display the result\n"
   ]
  },
  {
   "cell_type": "code",
   "execution_count": 4,
   "metadata": {},
   "outputs": [
    {
     "name": "stdout",
     "output_type": "stream",
     "text": [
      "420SIC\n"
     ]
    }
   ],
   "source": [
    "def revStr(string):\n",
    "    newString = string[::-1]\n",
    "    return newString\n",
    "\n",
    "print revStr(\"CIS024\")"
   ]
  },
  {
   "cell_type": "markdown",
   "metadata": {},
   "source": [
    "# Exercise 6 \n",
    "\n",
    "Write a Python function that accepts a string and calculate the number of upper case letters and lower case letters.\n",
    "\n",
    "Make sure you invoke this function in your main program and display the result\n"
   ]
  },
  {
   "cell_type": "code",
   "execution_count": 5,
   "metadata": {},
   "outputs": [
    {
     "name": "stdout",
     "output_type": "stream",
     "text": [
      "Enter a string: Minhdang Hong Doan\n",
      "There is 3 upper letters and 13 lower letters in the string\n"
     ]
    }
   ],
   "source": [
    "def up_low (string):\n",
    "    \n",
    "    string = raw_input(\"Enter a string: \")\n",
    "    up = 0\n",
    "    low = 0\n",
    "    \n",
    "    for i in range (len(string)):\n",
    "        if string[i].islower():\n",
    "            low = low+1\n",
    "        elif string[i].isupper():\n",
    "            up = up+1\n",
    "   \n",
    "    return (up,low)\n",
    "\n",
    "print \"There is %d upper letters and %d lower letters in the string\" %  up_low(\" \")"
   ]
  },
  {
   "cell_type": "markdown",
   "metadata": {},
   "source": [
    "# Exercise 7 \n",
    "\n",
    "Write a Python function to print the even numbers from a given list..\n",
    "\n",
    "Make sure you invoke this function in your main program and display the result\n"
   ]
  },
  {
   "cell_type": "code",
   "execution_count": 6,
   "metadata": {},
   "outputs": [
    {
     "name": "stdout",
     "output_type": "stream",
     "text": [
      "[2, 4, 6, 8, 10]\n"
     ]
    }
   ],
   "source": [
    "def sortevenlist (newlist):\n",
    "   \n",
    "    mylist =[2,3,4,5,6,7,8,9,10]\n",
    "    newlist = []\n",
    "    \n",
    "    for i in mylist:\n",
    "        if i%2== 0:\n",
    "            #update the list\n",
    "            newlist.append(i)\n",
    "    return newlist\n",
    "\n",
    "print sortevenlist([])\n",
    "           "
   ]
  },
  {
   "cell_type": "markdown",
   "metadata": {},
   "source": [
    "# Exercise 8 \n",
    "\n",
    "Write a Python function that checks whether a passed string is palindrome or not.\n",
    "\n",
    "Make sure you invoke this function in your main program and display the result\n"
   ]
  },
  {
   "cell_type": "code",
   "execution_count": null,
   "metadata": {
    "collapsed": true
   },
   "outputs": [],
   "source": []
  },
  {
   "cell_type": "markdown",
   "metadata": {},
   "source": [
    "# Exercise 9 \n",
    "\n",
    "Write a recursive Python program to compute the result of fibonacci series.\n",
    "\n",
    "This is what a fibonacci series is https://www.mathsisfun.com/numbers/fibonacci-sequence.html\n",
    "\n",
    "Make sure you invoke this function in your main program and display the result\n"
   ]
  },
  {
   "cell_type": "code",
   "execution_count": 29,
   "metadata": {},
   "outputs": [
    {
     "name": "stdout",
     "output_type": "stream",
     "text": [
      "Enter a possitive number:10\n",
      "Fibonacci sequence of 10 terms:\n",
      "0 1 1 2 3 5 8 13 21 34\n"
     ]
    }
   ],
   "source": [
    "def fibonacciseries(n):\n",
    "  \n",
    "   if n <= 1:\n",
    "       return n\n",
    "\n",
    "   else:\n",
    "       return(fibonacciseries(n-1) + fibonacciseries(n-2))\n",
    "\n",
    "\n",
    "nterms = int(raw_input(\"Enter a possitive number:\"))\n",
    "\n",
    "\n",
    "print(\"Fibonacci sequence of %d terms:\" %(nterms))\n",
    "\n",
    "for i in range(nterms):  \n",
    "    print fibonacciseries(i),\n"
   ]
  },
  {
   "cell_type": "markdown",
   "metadata": {},
   "source": [
    "# Exercise 10 \n",
    "\n",
    "Write a python program to autocorrect user input using the edit distance method.\n",
    "\n",
    "Make sure you invoke this function in your main program and display the result\n"
   ]
  }
 ],
 "metadata": {
  "kernelspec": {
   "display_name": "Python 2",
   "language": "python",
   "name": "python2"
  },
  "language_info": {
   "codemirror_mode": {
    "name": "ipython",
    "version": 2
   },
   "file_extension": ".py",
   "mimetype": "text/x-python",
   "name": "python",
   "nbconvert_exporter": "python",
   "pygments_lexer": "ipython2",
   "version": "2.7.13"
  }
 },
 "nbformat": 4,
 "nbformat_minor": 2
}
